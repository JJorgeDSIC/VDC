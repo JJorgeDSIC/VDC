{
 "cells": [
  {
   "cell_type": "code",
   "execution_count": 2,
   "metadata": {},
   "outputs": [
    {
     "name": "stderr",
     "output_type": "stream",
     "text": [
      "/Users/Javier/virtualenvs/tensorflow_r1.0_python3.5/lib/python3.6/site-packages/selenium/webdriver/phantomjs/webdriver.py:49: UserWarning: Selenium support for PhantomJS has been deprecated, please use headless versions of Chrome or Firefox instead\n",
      "  warnings.warn('Selenium support for PhantomJS has been deprecated, please use headless '\n"
     ]
    }
   ],
   "source": [
    "import numpy as np\n",
    "\n",
    "num_series = 4\n",
    "num_samples = 2000\n",
    "\n",
    "data = np.zeros((num_series,num_samples))\n",
    "\n",
    "for i in range(1,5):\n",
    "    lines = open(\"./lab1-datos/v\"+str(i)+\".txt\",\"r\").readlines()\n",
    "    \n",
    "    for j,l in enumerate(lines):\n",
    "        data[i-1,j] = float(l)\n",
    "\n",
    "#print(data)\n",
    "\n",
    "from bokeh.layouts import gridplot,column\n",
    "from bokeh.plotting import figure, show, output_file\n",
    "from bokeh.io import export_png\n",
    "\n",
    "p1 = figure(x_axis_type=\"linear\", y_range=(4.4, 5.6))\n",
    "p1.grid.grid_line_alpha=0.3\n",
    "p1.xaxis.axis_label = 'Time (msecs)'\n",
    "p1.yaxis.axis_label = 'Voltage (V)'\n",
    "\n",
    "p2 = figure(x_axis_type=\"linear\", y_range=(4.4, 5.6))\n",
    "p2.grid.grid_line_alpha=0.3\n",
    "p2.xaxis.axis_label = 'Time (msecs)'\n",
    "p2.yaxis.axis_label = 'Voltage (V)'\n",
    "\n",
    "p3 = figure(x_axis_type=\"linear\", y_range=(4.4, 5.6))\n",
    "p3.grid.grid_line_alpha=0.3\n",
    "p3.xaxis.axis_label = 'Time (msecs)'\n",
    "p3.yaxis.axis_label = 'Voltage (V)'\n",
    "\n",
    "p4 = figure(x_axis_type=\"linear\", y_range=(4.4, 5.6))\n",
    "p4.grid.grid_line_alpha=0.3\n",
    "p4.xaxis.axis_label = 'Time (msecs)'\n",
    "p4.yaxis.axis_label = 'Voltage (V)'\n",
    "\n",
    "y_axis = np.arange(2000)\n",
    "\n",
    "y_axis = y_axis * 2.5\n",
    "\n",
    "p1.line(y_axis, data[0], color='#A6CEE3', legend='Power Adaptor v1')\n",
    "p2.line(y_axis, data[1], color='#A6CEE3', legend='Power Adaptor v2')\n",
    "p3.line(y_axis, data[2], color='#A6CEE3', legend='Power Adaptor v3')\n",
    "p4.line(y_axis, data[3], color='#A6CEE3', legend='Power Adaptor v4')\n",
    "\n",
    "output_file(\"PowerAdaptors.html\", title=\"Power adaptors\")\n",
    "\n",
    "export_png(gridplot([[p1,p2,p3,p4]], plot_width=300, plot_height=300), filename=\"plot.png\")\n",
    "#show(column(p1, p2, p3, p4))\n",
    "show(gridplot([[p1,p2,p3,p4]], plot_width=300, plot_height=300))  # open a browser"
   ]
  },
  {
   "cell_type": "code",
   "execution_count": null,
   "metadata": {
    "collapsed": true
   },
   "outputs": [],
   "source": []
  }
 ],
 "metadata": {
  "kernelspec": {
   "display_name": "Python 3",
   "language": "python",
   "name": "python3"
  },
  "language_info": {
   "codemirror_mode": {
    "name": "ipython",
    "version": 3
   },
   "file_extension": ".py",
   "mimetype": "text/x-python",
   "name": "python",
   "nbconvert_exporter": "python",
   "pygments_lexer": "ipython3",
   "version": "3.6.1"
  }
 },
 "nbformat": 4,
 "nbformat_minor": 2
}
